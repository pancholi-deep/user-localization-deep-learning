{
 "cells": [
  {
   "cell_type": "code",
   "execution_count": 1,
   "id": "f07e8452-6e4e-4f61-a0cb-9cbb0bff307e",
   "metadata": {},
   "outputs": [],
   "source": [
    "import os\n",
    "import pandas as pd\n",
    "import numpy as np\n",
    "import h5py\n",
    "\n",
    "import torch\n",
    "import torch.nn as nn\n",
    "import torch.optim as optim\n",
    "from torch.utils.data import Dataset, DataLoader\n",
    "\n",
    "from sklearn.model_selection import train_test_split\n",
    "from sklearn.ensemble import RandomForestRegressor\n",
    "from sklearn.metrics import mean_absolute_error\n",
    "from sklearn.preprocessing import StandardScaler\n",
    "from sklearn.pipeline import make_pipeline\n",
    "from sklearn.model_selection import GridSearchCV\n",
    "\n",
    "from keras.models import Sequential\n",
    "from keras.layers import Dense"
   ]
  },
  {
   "cell_type": "code",
   "execution_count": null,
   "id": "8e02913a-e43b-48b1-aad7-309336eeb828",
   "metadata": {},
   "outputs": [],
   "source": [
    "# An example of load labelled data.\n",
    "# The unlabelled data and test data have similar format\n",
    "!gdown --id '18oSQy3eRQKP_rufwyhfmbw8RGafgeH7h' --output \"labelled.zip\"\n",
    "!gdown --id '1T55aW7f6dLvsC2jyCCrVq4z05UWVObnt' --output \"unlabelled.zip\"\n",
    "!gdown --id '1AekpiyN14HejCKWocWsl7Yj-I_QKOUTo' --output \"test.zip\""
   ]
  },
  {
   "cell_type": "code",
   "execution_count": 22,
   "id": "929fa7e6-ad22-4a44-bf18-23835a72bee9",
   "metadata": {},
   "outputs": [],
   "source": [
    "!unzip -q \"labelled.zip\" -d \"./\"\n",
    "!unzip -q \"unlabelled.zip\" -d \"./\"\n",
    "!unzip -q \"test.zip\" -d \"./\""
   ]
  },
  {
   "cell_type": "code",
   "execution_count": 2,
   "id": "db227c19-1f8e-412a-8f3d-1e931807de0d",
   "metadata": {},
   "outputs": [],
   "source": [
    "labelled = \"labelled_data/\"\n",
    "unlabelled = \"unlabelled_data/\"\n",
    "test = \"test_data/\""
   ]
  },
  {
   "cell_type": "code",
   "execution_count": 3,
   "id": "3d819f35-7432-465d-9ed9-4f2e5f5be4fe",
   "metadata": {},
   "outputs": [],
   "source": [
    "def get_unlabelled_test_data(data_file):\n",
    "    f = h5py.File(data_file, 'r')\n",
    "    H_Re = f['H_Re'][:] \n",
    "    H_Im = f['H_Im'][:] \n",
    "    SNR = f['SNR'][:] \n",
    "    f.close()\n",
    "\n",
    "    return H_Re, H_Im, SNR\n",
    "\n",
    "def get_labelled_data(data_file):\n",
    "    f = h5py.File(data_file, 'r')\n",
    "    H_Re = f['H_Re'][:] \n",
    "    H_Im = f['H_Im'][:]\n",
    "    SNR = f['SNR'][:] \n",
    "    Pos = f['Pos'][:] \n",
    "    f.close()\n",
    "\n",
    "    return H_Re, H_Im, SNR, Pos"
   ]
  },
  {
   "cell_type": "code",
   "execution_count": 4,
   "id": "92c7882c-0bb7-4dd7-85f6-2ee7e66944c3",
   "metadata": {},
   "outputs": [
    {
     "name": "stdout",
     "output_type": "stream",
     "text": [
      "Files in unlabelled data: 64\n",
      "Files in test data: 1\n",
      "Files in labelled data: 8\n"
     ]
    }
   ],
   "source": [
    "print(\"Files in unlabelled data:\", len([f for f in os.listdir('unlabelled_data') if f.endswith('.hdf5')]))\n",
    "print(\"Files in test data:\", len([f for f in os.listdir('test') if f.endswith('.hdf5')]))\n",
    "print(\"Files in labelled data:\", len([f for f in os.listdir('labelled_data') if f.endswith('.hdf5')]))"
   ]
  },
  {
   "cell_type": "code",
   "execution_count": 5,
   "id": "da749ebb-b2e7-49af-b641-8293a58371bb",
   "metadata": {},
   "outputs": [
    {
     "name": "stdout",
     "output_type": "stream",
     "text": [
      "Shape of unlabelled data:\n",
      "unlabelled_H_Re is of shape (512, 56, 924, 5)\n",
      "unlabelled_H_Im is of shape (512, 56, 924, 5)\n",
      "unlabelled_SNR is of shape (512, 56, 5)\n"
     ]
    }
   ],
   "source": [
    "unlabelled_H_Re, unlabelled_H_Im, unlabelled_SNR = get_unlabelled_test_data(\"unlabelled_data/file_1.hdf5\")\n",
    "\n",
    "for i in range(2,64):\n",
    "    H_Re_i, H_Im_i, SNR_i = get_unlabelled_test_data(\"unlabelled_data/file_\"+str(i)+\".hdf5\")\n",
    "    np.concatenate((unlabelled_H_Re, H_Re_i))\n",
    "    np.concatenate((unlabelled_H_Im, H_Im_i))\n",
    "    np.concatenate((unlabelled_SNR, SNR_i))\n",
    "\n",
    "print(\"Shape of unlabelled data:\")\n",
    "print(\"unlabelled_H_Re is of shape {}\".format(unlabelled_H_Re.shape))\n",
    "print(\"unlabelled_H_Im is of shape {}\".format(unlabelled_H_Im.shape))\n",
    "print(\"unlabelled_SNR is of shape {}\".format(unlabelled_SNR.shape))"
   ]
  },
  {
   "cell_type": "code",
   "execution_count": 6,
   "id": "3485019b-823c-4c55-981d-e9476c941e8b",
   "metadata": {},
   "outputs": [
    {
     "name": "stdout",
     "output_type": "stream",
     "text": [
      "Shape of test data:\n",
      "test_H_Re is of shape (883, 56, 924, 5)\n",
      "test_H_Im is of shape (883, 56, 924, 5)\n",
      "test_SNR is of shape (883, 56, 5)\n"
     ]
    }
   ],
   "source": [
    "test_H_Re, test_H_Im, test_SNR = get_unlabelled_test_data(\"test/file_1.hdf5\")\n",
    "\n",
    "print(\"Shape of test data:\")\n",
    "print(\"test_H_Re is of shape {}\".format(test_H_Re.shape))\n",
    "print(\"test_H_Im is of shape {}\".format(test_H_Im.shape))\n",
    "print(\"test_SNR is of shape {}\".format(test_SNR.shape))"
   ]
  },
  {
   "cell_type": "code",
   "execution_count": 7,
   "id": "0ced7a8e-3fa2-494e-9258-ed9d47779cde",
   "metadata": {},
   "outputs": [
    {
     "name": "stdout",
     "output_type": "stream",
     "text": [
      "Shape of labelled data:\n",
      "labelled_H_Re is of shape (512, 56, 924, 5)\n",
      "labelled_H_Im is of shape (512, 56, 924, 5)\n",
      "labelled_SNR is of shape (512, 56, 5)\n",
      "labelled_Pos is of shape (512, 3)\n"
     ]
    }
   ],
   "source": [
    "labelled_H_Re, labelled_H_Im, labelled_SNR, labelled_Pos = get_labelled_data(\"labelled_data/file_1.hdf5\")\n",
    "\n",
    "for i in range(2,9):\n",
    "    H_Re_i, H_Im_i, SNR_i, Pos_i = get_labelled_data(\"labelled_data/file_\"+str(i)+\".hdf5\")\n",
    "    np.concatenate((labelled_H_Re, H_Re_i))\n",
    "    np.concatenate((labelled_H_Im, H_Im_i))\n",
    "    np.concatenate((labelled_SNR, SNR_i))\n",
    "    np.concatenate((labelled_Pos, Pos_i))\n",
    "\n",
    "print(\"Shape of labelled data:\")\n",
    "print(\"labelled_H_Re is of shape {}\".format(labelled_H_Re.shape))\n",
    "print(\"labelled_H_Im is of shape {}\".format(labelled_H_Im.shape))\n",
    "print(\"labelled_SNR is of shape {}\".format(labelled_SNR.shape))\n",
    "print(\"labelled_Pos is of shape {}\".format(labelled_Pos.shape))"
   ]
  },
  {
   "cell_type": "code",
   "execution_count": 8,
   "id": "2f9cbf95-e370-4c94-84a7-8e2b1f73a8f1",
   "metadata": {},
   "outputs": [],
   "source": [
    "def create_autoencoder(input_dim):\n",
    "    model = Sequential()\n",
    "    model.add(Dense(128, input_dim=input_dim, activation='relu'))\n",
    "    model.add(Dense(64, activation='relu'))\n",
    "    model.add(Dense(32, activation='relu'))\n",
    "    model.add(Dense(64, activation='relu'))\n",
    "    model.add(Dense(128, activation='relu'))\n",
    "    model.add(Dense(input_dim, activation='linear'))\n",
    "    model.compile(optimizer='adam', loss='mean_squared_error')\n",
    "    return model"
   ]
  },
  {
   "cell_type": "code",
   "execution_count": 9,
   "id": "c5d24a8d-f97d-4aef-8e12-5175ab579331",
   "metadata": {},
   "outputs": [],
   "source": [
    "def extract_features(autoencoder, unlabelled_data):\n",
    "    return autoencoder.predict(unlabelled_data)"
   ]
  },
  {
   "cell_type": "code",
   "execution_count": 10,
   "id": "ea65f3eb-8359-4bc1-99e4-21ad834f093a",
   "metadata": {},
   "outputs": [],
   "source": [
    "model = make_pipeline(StandardScaler(), RandomForestRegressor())"
   ]
  },
  {
   "cell_type": "code",
   "execution_count": 11,
   "id": "9567715c-1292-4d22-be13-39611f09c0d1",
   "metadata": {},
   "outputs": [],
   "source": [
    "X_train, X_val, y_train, y_val = train_test_split(labelled_H_Re, labelled_Pos, test_size=0.2, random_state=42)\n",
    "\n",
    "X_train_flat = X_train.reshape(X_train.shape[0], -1)\n",
    "X_val_flat = X_val.reshape(X_val.shape[0], -1)\n",
    "test_data_flat = test_H_Re.reshape(test_H_Re.shape[0], -1)"
   ]
  },
  {
   "cell_type": "code",
   "execution_count": 12,
   "id": "31b90163-26d9-42de-b5c2-4734f55bd9cf",
   "metadata": {},
   "outputs": [
    {
     "data": {
      "text/html": [
       "<style>#sk-container-id-1 {color: black;}#sk-container-id-1 pre{padding: 0;}#sk-container-id-1 div.sk-toggleable {background-color: white;}#sk-container-id-1 label.sk-toggleable__label {cursor: pointer;display: block;width: 100%;margin-bottom: 0;padding: 0.3em;box-sizing: border-box;text-align: center;}#sk-container-id-1 label.sk-toggleable__label-arrow:before {content: \"▸\";float: left;margin-right: 0.25em;color: #696969;}#sk-container-id-1 label.sk-toggleable__label-arrow:hover:before {color: black;}#sk-container-id-1 div.sk-estimator:hover label.sk-toggleable__label-arrow:before {color: black;}#sk-container-id-1 div.sk-toggleable__content {max-height: 0;max-width: 0;overflow: hidden;text-align: left;background-color: #f0f8ff;}#sk-container-id-1 div.sk-toggleable__content pre {margin: 0.2em;color: black;border-radius: 0.25em;background-color: #f0f8ff;}#sk-container-id-1 input.sk-toggleable__control:checked~div.sk-toggleable__content {max-height: 200px;max-width: 100%;overflow: auto;}#sk-container-id-1 input.sk-toggleable__control:checked~label.sk-toggleable__label-arrow:before {content: \"▾\";}#sk-container-id-1 div.sk-estimator input.sk-toggleable__control:checked~label.sk-toggleable__label {background-color: #d4ebff;}#sk-container-id-1 div.sk-label input.sk-toggleable__control:checked~label.sk-toggleable__label {background-color: #d4ebff;}#sk-container-id-1 input.sk-hidden--visually {border: 0;clip: rect(1px 1px 1px 1px);clip: rect(1px, 1px, 1px, 1px);height: 1px;margin: -1px;overflow: hidden;padding: 0;position: absolute;width: 1px;}#sk-container-id-1 div.sk-estimator {font-family: monospace;background-color: #f0f8ff;border: 1px dotted black;border-radius: 0.25em;box-sizing: border-box;margin-bottom: 0.5em;}#sk-container-id-1 div.sk-estimator:hover {background-color: #d4ebff;}#sk-container-id-1 div.sk-parallel-item::after {content: \"\";width: 100%;border-bottom: 1px solid gray;flex-grow: 1;}#sk-container-id-1 div.sk-label:hover label.sk-toggleable__label {background-color: #d4ebff;}#sk-container-id-1 div.sk-serial::before {content: \"\";position: absolute;border-left: 1px solid gray;box-sizing: border-box;top: 0;bottom: 0;left: 50%;z-index: 0;}#sk-container-id-1 div.sk-serial {display: flex;flex-direction: column;align-items: center;background-color: white;padding-right: 0.2em;padding-left: 0.2em;position: relative;}#sk-container-id-1 div.sk-item {position: relative;z-index: 1;}#sk-container-id-1 div.sk-parallel {display: flex;align-items: stretch;justify-content: center;background-color: white;position: relative;}#sk-container-id-1 div.sk-item::before, #sk-container-id-1 div.sk-parallel-item::before {content: \"\";position: absolute;border-left: 1px solid gray;box-sizing: border-box;top: 0;bottom: 0;left: 50%;z-index: -1;}#sk-container-id-1 div.sk-parallel-item {display: flex;flex-direction: column;z-index: 1;position: relative;background-color: white;}#sk-container-id-1 div.sk-parallel-item:first-child::after {align-self: flex-end;width: 50%;}#sk-container-id-1 div.sk-parallel-item:last-child::after {align-self: flex-start;width: 50%;}#sk-container-id-1 div.sk-parallel-item:only-child::after {width: 0;}#sk-container-id-1 div.sk-dashed-wrapped {border: 1px dashed gray;margin: 0 0.4em 0.5em 0.4em;box-sizing: border-box;padding-bottom: 0.4em;background-color: white;}#sk-container-id-1 div.sk-label label {font-family: monospace;font-weight: bold;display: inline-block;line-height: 1.2em;}#sk-container-id-1 div.sk-label-container {text-align: center;}#sk-container-id-1 div.sk-container {/* jupyter's `normalize.less` sets `[hidden] { display: none; }` but bootstrap.min.css set `[hidden] { display: none !important; }` so we also need the `!important` here to be able to override the default hidden behavior on the sphinx rendered scikit-learn.org. See: https://github.com/scikit-learn/scikit-learn/issues/21755 */display: inline-block !important;position: relative;}#sk-container-id-1 div.sk-text-repr-fallback {display: none;}</style><div id=\"sk-container-id-1\" class=\"sk-top-container\"><div class=\"sk-text-repr-fallback\"><pre>Pipeline(steps=[(&#x27;standardscaler&#x27;, StandardScaler()),\n",
       "                (&#x27;randomforestregressor&#x27;, RandomForestRegressor())])</pre><b>In a Jupyter environment, please rerun this cell to show the HTML representation or trust the notebook. <br />On GitHub, the HTML representation is unable to render, please try loading this page with nbviewer.org.</b></div><div class=\"sk-container\" hidden><div class=\"sk-item sk-dashed-wrapped\"><div class=\"sk-label-container\"><div class=\"sk-label sk-toggleable\"><input class=\"sk-toggleable__control sk-hidden--visually\" id=\"sk-estimator-id-1\" type=\"checkbox\" ><label for=\"sk-estimator-id-1\" class=\"sk-toggleable__label sk-toggleable__label-arrow\">Pipeline</label><div class=\"sk-toggleable__content\"><pre>Pipeline(steps=[(&#x27;standardscaler&#x27;, StandardScaler()),\n",
       "                (&#x27;randomforestregressor&#x27;, RandomForestRegressor())])</pre></div></div></div><div class=\"sk-serial\"><div class=\"sk-item\"><div class=\"sk-estimator sk-toggleable\"><input class=\"sk-toggleable__control sk-hidden--visually\" id=\"sk-estimator-id-2\" type=\"checkbox\" ><label for=\"sk-estimator-id-2\" class=\"sk-toggleable__label sk-toggleable__label-arrow\">StandardScaler</label><div class=\"sk-toggleable__content\"><pre>StandardScaler()</pre></div></div></div><div class=\"sk-item\"><div class=\"sk-estimator sk-toggleable\"><input class=\"sk-toggleable__control sk-hidden--visually\" id=\"sk-estimator-id-3\" type=\"checkbox\" ><label for=\"sk-estimator-id-3\" class=\"sk-toggleable__label sk-toggleable__label-arrow\">RandomForestRegressor</label><div class=\"sk-toggleable__content\"><pre>RandomForestRegressor()</pre></div></div></div></div></div></div></div>"
      ],
      "text/plain": [
       "Pipeline(steps=[('standardscaler', StandardScaler()),\n",
       "                ('randomforestregressor', RandomForestRegressor())])"
      ]
     },
     "execution_count": 12,
     "metadata": {},
     "output_type": "execute_result"
    }
   ],
   "source": [
    "model.fit(X_train_flat, y_train)"
   ]
  },
  {
   "cell_type": "code",
   "execution_count": 13,
   "id": "3e17e50b-9d07-4128-8f2a-d0d50163f8db",
   "metadata": {},
   "outputs": [
    {
     "name": "stdout",
     "output_type": "stream",
     "text": [
      "MAE on validation set: 58.84740355491467\n"
     ]
    }
   ],
   "source": [
    "val_predictions_flat = model.predict(X_val_flat)\n",
    "mae_val = mean_absolute_error(y_val, val_predictions_flat)\n",
    "print(f'MAE on validation set: {mae_val}')"
   ]
  },
  {
   "cell_type": "code",
   "execution_count": 14,
   "id": "052ea864-0dc6-45de-ad25-65f7090e182c",
   "metadata": {},
   "outputs": [],
   "source": [
    "test_predictions_flat = model.predict(test_data_flat)"
   ]
  },
  {
   "cell_type": "code",
   "execution_count": 15,
   "id": "794ece6d-6c10-4bc6-9a3f-99f7130bb46e",
   "metadata": {},
   "outputs": [],
   "source": [
    "submission_df = pd.DataFrame({\n",
    "    'id': range(1, len(test_predictions_flat) + 1),\n",
    "    'x': test_predictions_flat[:, 0],\n",
    "    'y': test_predictions_flat[:, 1],\n",
    "    'z': test_predictions_flat[:, 2]\n",
    "})\n",
    "\n",
    "submission_df.to_csv('user_localization_submission.csv', index=False)"
   ]
  },
  {
   "cell_type": "code",
   "execution_count": null,
   "id": "9f7ff11b-87b6-49e3-b0ef-2fdeafdacb9c",
   "metadata": {},
   "outputs": [],
   "source": []
  }
 ],
 "metadata": {
  "kernelspec": {
   "display_name": "Python 3 (ipykernel)",
   "language": "python",
   "name": "python3"
  },
  "language_info": {
   "codemirror_mode": {
    "name": "ipython",
    "version": 3
   },
   "file_extension": ".py",
   "mimetype": "text/x-python",
   "name": "python",
   "nbconvert_exporter": "python",
   "pygments_lexer": "ipython3",
   "version": "3.9.13"
  }
 },
 "nbformat": 4,
 "nbformat_minor": 5
}
